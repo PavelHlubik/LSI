{
 "cells": [
  {
   "cell_type": "code",
   "execution_count": 1,
   "metadata": {
    "collapsed": true
   },
   "outputs": [],
   "source": [
    "import os\n",
    "from glob import glob\n",
    "import pandas as pd\n",
    "from sklearn.preprocessing import LabelEncoder\n",
    "from sklearn.feature_extraction.text import TfidfVectorizer\n",
    "from sklearn.neighbors import NearestNeighbors\n",
    "from scipy.sparse.linalg import svds\n",
    "import numpy as np\n",
    "from rouge import Rouge\n",
    "import math\n",
    "\n",
    "path = r\"C:\\Users\\pavel\\Skola\\InformationRetrieval\\reviews.csv\"\n",
    "\n",
    "# Read data into dataframe\n",
    "dtypes = {\n",
    "    'review_id': str,\n",
    "    'business_name': str,\n",
    "    'text': str,\n",
    "    'useful': float\n",
    "}\n",
    "\n",
    "df = pd.read_csv(path, usecols=dtypes.keys(), dtype=dtypes, delimiter=';', quotechar='\"', nrows=1000000)\n",
    "\n",
    "# Encode IDs\n",
    "df['review_id_transformed'] = LabelEncoder().fit_transform(df['review_id'])\n",
    "\n",
    "# Sort to make sure that ID = index\n",
    "df.sort_values(by='review_id_transformed', inplace=True)"
   ]
  },
  {
   "cell_type": "code",
   "execution_count": 2,
   "metadata": {},
   "outputs": [
    {
     "name": "stdout",
     "output_type": "stream",
     "text": [
      "(243626, 1000000)\n"
     ]
    }
   ],
   "source": [
    "# Transform tfidf\n",
    "vec = TfidfVectorizer(stop_words='english', token_pattern=r'[a-zA-Z]{3,}')\n",
    "X = vec.fit_transform(df['text'])\n",
    "X = X.T\n",
    "print(X.shape)"
   ]
  },
  {
   "cell_type": "code",
   "execution_count": 3,
   "metadata": {},
   "outputs": [],
   "source": [
    "# Number of latent factors\n",
    "n_latent_factors = 100\n",
    "\n",
    "# Compute SVD\n",
    "U, s, Vt = svds(X, k=n_latent_factors)\n",
    "S = np.diag(s)\n",
    "\n",
    "# Representation of documents in latent space\n",
    "embeddings = Vt.T"
   ]
  },
  {
   "cell_type": "code",
   "execution_count": 4,
   "metadata": {},
   "outputs": [],
   "source": [
    "# Discounted cumulative gain\n",
    "def dcg(scores):\n",
    "    res = 0\n",
    "    for i, score in enumerate(scores):\n",
    "        res += score / math.log(i + 2)\n",
    "    \n",
    "    return res\n"
   ]
  },
  {
   "cell_type": "code",
   "execution_count": 5,
   "metadata": {},
   "outputs": [],
   "source": [
    "# Score results according to benchmarks\n",
    "def score(metric, benchmarks, results):\n",
    "    scores = [0 for _ in range(len(results))]\n",
    "\n",
    "    # Get rouge scores for results and etalons\n",
    "    rouge = Rouge()\n",
    "    for i, res in enumerate(results):\n",
    "        if i % 20 == 0 and i > 0:\n",
    "            print(i)\n",
    "        for et in benchmarks:\n",
    "            et_text = df[df['review_id'] == et]['text'].iloc[0]\n",
    "            r = rouge.get_scores(res, et_text)[0]\n",
    "            # print(r)\n",
    "            scores[i] += r[metric]['r']\n",
    "            \n",
    "    return dcg(scores)\n"
   ]
  },
  {
   "cell_type": "code",
   "execution_count": 6,
   "metadata": {},
   "outputs": [
    {
     "name": "stdout",
     "output_type": "stream",
     "text": [
      "Query: \" It was a really good pizza. \"\n"
     ]
    },
    {
     "name": "stdout",
     "output_type": "stream",
     "text": [
      "(96, 5)\n"
     ]
    }
   ],
   "source": [
    "n_neighbors = 100\n",
    "# embeddings = S.dot(Vt).T\n",
    "embeddings = Vt.T\n",
    "file = r'..\\etalons_1.txt'\n",
    "with open(file, 'r') as f:\n",
    "    query = f.readline()\n",
    "    benchmarks = f.readlines()\n",
    "\n",
    "query = query[:-1]\n",
    "benchmarks = [e[:-1] for e in benchmarks]\n",
    "\n",
    "print('Query: \"', query, '\"')\n",
    "\n",
    "query_vec = vec.transform([query])\n",
    "\n",
    "# Query vector in latent space\n",
    "query_embd = S.dot(U.T).dot(query_vec.T.todense())\n",
    "\n",
    "# Find results\n",
    "nbrs = NearestNeighbors(n_neighbors=n_neighbors)\n",
    "nbrs.fit(embeddings)\n",
    "_, neighbors = nbrs.kneighbors(query_embd.T)\n",
    "neighbors = neighbors[0]\n",
    "\n",
    "results = df[df['review_id_transformed'].isin(neighbors)]\n",
    "results = results.drop(results[results['review_id'].isin(benchmarks)].index)\n",
    "print(results.shape)\n"
   ]
  },
  {
   "cell_type": "code",
   "execution_count": 7,
   "metadata": {},
   "outputs": [
    {
     "name": "stdout",
     "output_type": "stream",
     "text": [
      "20\n"
     ]
    },
    {
     "name": "stdout",
     "output_type": "stream",
     "text": [
      "40\n"
     ]
    },
    {
     "name": "stdout",
     "output_type": "stream",
     "text": [
      "60\n"
     ]
    },
    {
     "name": "stdout",
     "output_type": "stream",
     "text": [
      "80\n"
     ]
    },
    {
     "name": "stdout",
     "output_type": "stream",
     "text": [
      "20\n"
     ]
    },
    {
     "name": "stdout",
     "output_type": "stream",
     "text": [
      "40\n"
     ]
    },
    {
     "name": "stdout",
     "output_type": "stream",
     "text": [
      "60\n"
     ]
    },
    {
     "name": "stdout",
     "output_type": "stream",
     "text": [
      "80\n"
     ]
    },
    {
     "name": "stdout",
     "output_type": "stream",
     "text": [
      "55.16196980595818 50.25815605666004\n"
     ]
    }
   ],
   "source": [
    "reviews = []\n",
    "for i in neighbors:\n",
    "    if i in results['review_id_transformed'].tolist():\n",
    "        row = results[results['review_id_transformed'] == i]\n",
    "        text = row['text'].iloc[0]\n",
    "        reviews.append(text)\n",
    "\n",
    "gain_1 = score('rouge-1', benchmarks, reviews)\n",
    "gain_L = score('rouge-l', benchmarks, reviews)\n",
    "\n",
    "print(gain_1, gain_L)"
   ]
  },
  {
   "cell_type": "heading",
   "metadata": {},
   "level": 5,
   "source": [
    "Compare with Lucene\n"
   ]
  },
  {
   "cell_type": "code",
   "execution_count": 8,
   "metadata": {},
   "outputs": [
    {
     "name": "stdout",
     "output_type": "stream",
     "text": [
      "Found these files:  ['..\\\\lucene_q1_results_ids.txt']\n\n"
     ]
    },
    {
     "name": "stdout",
     "output_type": "stream",
     "text": [
      "20\n"
     ]
    },
    {
     "name": "stdout",
     "output_type": "stream",
     "text": [
      "40\n"
     ]
    },
    {
     "name": "stdout",
     "output_type": "stream",
     "text": [
      "60\n"
     ]
    },
    {
     "name": "stdout",
     "output_type": "stream",
     "text": [
      "80\n"
     ]
    },
    {
     "name": "stdout",
     "output_type": "stream",
     "text": [
      "20\n"
     ]
    },
    {
     "name": "stdout",
     "output_type": "stream",
     "text": [
      "40\n"
     ]
    },
    {
     "name": "stdout",
     "output_type": "stream",
     "text": [
      "60\n"
     ]
    },
    {
     "name": "stdout",
     "output_type": "stream",
     "text": [
      "80\n"
     ]
    },
    {
     "name": "stdout",
     "output_type": "stream",
     "text": [
      "55.57428791536812 51.04795324763392\n"
     ]
    }
   ],
   "source": [
    "lucene_files = sorted(glob(r'..\\lucene*ids.txt'))\n",
    "print('Found these files: ', lucene_files)\n",
    "\n",
    "query_files = sorted(glob(os.path.join('..', 'etalons_*.txt')))\n",
    "for f_name, f_query in zip(lucene_files, query_files):\n",
    "    # Read review ids returned by lucene\n",
    "    with open(f_name, 'r') as f:\n",
    "        ids = f.readlines()\n",
    "    ids = [id[:-1] for id in ids]\n",
    "    \n",
    "    # Read ids of files chosen as etalons\n",
    "    with open(f_query, 'r') as f:\n",
    "        benchmarks = f.readlines()\n",
    "    benchmarks = benchmarks[1:]\n",
    "    benchmarks = [e[:-1] for e in benchmarks]\n",
    "    \n",
    "    ids = [id for id in ids if id not in benchmarks]\n",
    "    \n",
    "    print()\n",
    "    reviews = df[df['review_id'].isin(ids)]\n",
    "    reviews = [df[df['review_id'] == i] for i in ids]\n",
    "    reviews = [r['text'].iloc[0] for r in reviews]\n",
    "    \n",
    "    gain_1 = score('rouge-1', benchmarks, reviews)\n",
    "    gain_L = score('rouge-l', benchmarks, reviews)\n",
    "    \n",
    "    print(gain_1, gain_L)\n",
    "    "
   ]
  },
  {
   "cell_type": "code",
   "execution_count": null,
   "metadata": {},
   "outputs": [],
   "source": []
  }
 ],
 "metadata": {
  "kernelspec": {
   "display_name": "Python 2",
   "language": "python",
   "name": "python2"
  },
  "language_info": {
   "codemirror_mode": {
    "name": "ipython",
    "version": 2
   },
   "file_extension": ".py",
   "mimetype": "text/x-python",
   "name": "python",
   "nbconvert_exporter": "python",
   "pygments_lexer": "ipython2",
   "version": "2.7.6"
  }
 },
 "nbformat": 4,
 "nbformat_minor": 0
}
