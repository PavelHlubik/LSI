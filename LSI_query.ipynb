{
 "cells": [
  {
   "cell_type": "code",
   "execution_count": 7,
   "metadata": {
    "collapsed": true
   },
   "outputs": [],
   "source": [
    "import os\n",
    "from glob import glob\n",
    "import pandas as pd\n",
    "from sklearn.preprocessing import LabelEncoder\n",
    "from sklearn.feature_extraction.text import TfidfVectorizer\n",
    "from sklearn.neighbors import NearestNeighbors\n",
    "from scipy.sparse.linalg import svds\n",
    "import numpy as np\n",
    "from rouge import Rouge\n",
    "import math\n",
    "\n",
    "path = r\"C:\\Users\\pavel\\Skola\\InformationRetrieval\\reviews.csv\"\n",
    "\n",
    "# Read data into dataframe\n",
    "dtypes = {\n",
    "    'review_id': str,\n",
    "    'business_name': str,\n",
    "    'text': str,\n",
    "    'useful': float\n",
    "}\n",
    "\n",
    "df = pd.read_csv(path, usecols=dtypes.keys(), dtype=dtypes, delimiter=';', quotechar='\"', nrows=1000000)\n",
    "\n",
    "# Encode IDs\n",
    "df['review_id_transformed'] = LabelEncoder().fit_transform(df['review_id'])\n",
    "\n",
    "# Sort to make sure that ID = index\n",
    "df.sort_values(by='review_id_transformed', inplace=True)"
   ]
  },
  {
   "cell_type": "code",
   "execution_count": 8,
   "metadata": {},
   "outputs": [
    {
     "name": "stdout",
     "output_type": "stream",
     "text": [
      "(243626, 1000000)\n"
     ]
    }
   ],
   "source": [
    "# Transform tfidf\n",
    "vec = TfidfVectorizer(stop_words='english', token_pattern=r'[a-zA-Z]{3,}')\n",
    "X = vec.fit_transform(df['text'])\n",
    "X = X.T\n",
    "print(X.shape)"
   ]
  },
  {
   "cell_type": "code",
   "execution_count": 9,
   "metadata": {},
   "outputs": [],
   "source": [
    "# Number of latent factors\n",
    "n_latent_factors = 100\n",
    "\n",
    "# Compute SVD\n",
    "U, s, Vt = svds(X, k=n_latent_factors)\n",
    "S = np.diag(s)\n",
    "\n",
    "# Representation of documents in latent space\n",
    "embeddings = Vt.T"
   ]
  },
  {
   "cell_type": "code",
   "execution_count": 10,
   "metadata": {},
   "outputs": [],
   "source": [
    "# Discounted cumulative gain\n",
    "def dcg(scores):\n",
    "    res = 0\n",
    "    for i, score in enumerate(scores):\n",
    "        res += score / math.log(i + 2)\n",
    "    \n",
    "    return res\n"
   ]
  },
  {
   "cell_type": "code",
   "execution_count": 11,
   "metadata": {},
   "outputs": [],
   "source": [
    "# Score results according to benchmarks\n",
    "def score(metric, benchmarks, results):\n",
    "    scores = [0 for _ in range(len(results))]\n",
    "\n",
    "    # Get rouge scores for results and etalons\n",
    "    rouge = Rouge()\n",
    "    for i, res in enumerate(results):\n",
    "        if i % 20 == 0 and i > 0:\n",
    "            print(i)\n",
    "        for et in benchmarks:\n",
    "            et_text = df[df['review_id'] == et]['text'].iloc[0]\n",
    "            r = rouge.get_scores(res, et_text)[0]\n",
    "            # print(r)\n",
    "            scores[i] += r[metric]['r']\n",
    "            \n",
    "    return dcg(scores)\n"
   ]
  },
  {
   "cell_type": "code",
   "execution_count": 12,
   "metadata": {},
   "outputs": [
    {
     "name": "stdout",
     "output_type": "stream",
     "text": [
      "Query: \" 'recommended burger restaurants' \"\n"
     ]
    },
    {
     "name": "stdout",
     "output_type": "stream",
     "text": [
      "done in  7.561911344528198\n"
     ]
    },
    {
     "name": "stdout",
     "output_type": "stream",
     "text": [
      "(98, 5)\n[[0.08749427 0.09216553 0.09517244 0.09549658 0.09566841 0.09748466\n  0.09771338 0.09823904 0.09866347 0.09951902 0.09966602 0.09971278\n  0.10019776 0.10063332 0.1007125  0.10078634 0.10080144 0.10199687\n  0.10201588 0.1021267  0.1028807  0.10300368 0.10302037 0.10335461\n  0.10373298 0.10373539 0.10386757 0.10387268 0.10395817 0.10402786\n  0.10415095 0.1042101  0.10426666 0.10444728 0.10445793 0.10465465\n  0.10493952 0.10526967 0.10568834 0.1057031  0.10600228 0.10607141\n  0.10644499 0.10644904 0.10688063 0.10691853 0.10704703 0.10716147\n  0.10734067 0.10820501 0.10872634 0.10879153 0.10904492 0.1110894\n  0.11117171 0.11120008 0.11150189 0.11179108 0.11194627 0.11202163\n  0.11203992 0.11212308 0.11219212 0.11229762 0.11230991 0.11236789\n  0.11237269 0.11239994 0.1125596  0.11332335 0.11388829 0.1139606\n  0.11435462 0.11458132 0.11473489 0.11489824 0.11494794 0.11509276\n  0.11548871 0.11595315 0.11684817 0.116916   0.11723594 0.11734054\n  0.11797422 0.11803814 0.11821958 0.11831239 0.11841446 0.11857662\n  0.11917722 0.11933129 0.11933704 0.11938101 0.1195287  0.11971421\n  0.11983274 0.11994635 0.12008958 0.12039925]]\n"
     ]
    }
   ],
   "source": [
    "from time import time\n",
    "n_neighbors = 100\n",
    "# embeddings = S.dot(Vt).T\n",
    "embeddings = Vt.T\n",
    "file = r'..\\etalons_3.txt'\n",
    "with open(file, 'r') as f:\n",
    "    query = f.readline()\n",
    "    benchmarks = f.readlines()\n",
    "\n",
    "query = query[:-1]\n",
    "benchmarks = [e[:-1] for e in benchmarks]\n",
    "\n",
    "print('Query: \"', query, '\"')\n",
    "\n",
    "start = time()\n",
    "query_vec = vec.transform([query])\n",
    "\n",
    "# Query vector in latent space\n",
    "query_embd = S.dot(U.T).dot(query_vec.T.todense())\n",
    "\n",
    "# Find results\n",
    "nbrs = NearestNeighbors(n_neighbors=n_neighbors, n_jobs=4, metric='cosine')\n",
    "nbrs.fit(embeddings)\n",
    "dist, neighbors = nbrs.kneighbors(query_embd.T)\n",
    "neighbors = neighbors[0]\n",
    "print('done in ', time() - start)\n",
    "results = df[df['review_id_transformed'].isin(neighbors)]\n",
    "results = results.drop(results[results['review_id'].isin(benchmarks)].index)\n",
    "print(results.shape)\n"
   ]
  },
  {
   "cell_type": "code",
   "execution_count": 13,
   "metadata": {},
   "outputs": [
    {
     "name": "stdout",
     "output_type": "stream",
     "text": [
      "20\n"
     ]
    },
    {
     "name": "stdout",
     "output_type": "stream",
     "text": [
      "40\n"
     ]
    },
    {
     "name": "stdout",
     "output_type": "stream",
     "text": [
      "60\n"
     ]
    },
    {
     "name": "stdout",
     "output_type": "stream",
     "text": [
      "80\n"
     ]
    },
    {
     "name": "stdout",
     "output_type": "stream",
     "text": [
      "20\n"
     ]
    },
    {
     "name": "stdout",
     "output_type": "stream",
     "text": [
      "40\n"
     ]
    },
    {
     "name": "stdout",
     "output_type": "stream",
     "text": [
      "60\n"
     ]
    },
    {
     "name": "stdout",
     "output_type": "stream",
     "text": [
      "80\n"
     ]
    },
    {
     "name": "stdout",
     "output_type": "stream",
     "text": [
      "51.14248517144406 46.846839939606056\n"
     ]
    }
   ],
   "source": [
    "reviews = []\n",
    "for i in neighbors:\n",
    "    if i in results['review_id_transformed'].tolist():\n",
    "        row = results[results['review_id_transformed'] == i]\n",
    "        text = row['text'].iloc[0]\n",
    "        reviews.append(text)\n",
    "\n",
    "gain_1 = score('rouge-1', benchmarks, reviews)\n",
    "gain_L = score('rouge-l', benchmarks, reviews)\n",
    "\n",
    "print(gain_1, gain_L)"
   ]
  },
  {
   "cell_type": "heading",
   "metadata": {},
   "level": 5,
   "source": [
    "Compare with Lucene\n"
   ]
  },
  {
   "cell_type": "code",
   "execution_count": 14,
   "metadata": {},
   "outputs": [
    {
     "name": "stdout",
     "output_type": "stream",
     "text": [
      "20\n"
     ]
    },
    {
     "name": "stdout",
     "output_type": "stream",
     "text": [
      "40\n"
     ]
    },
    {
     "name": "stdout",
     "output_type": "stream",
     "text": [
      "60\n"
     ]
    },
    {
     "name": "stdout",
     "output_type": "stream",
     "text": [
      "80\n"
     ]
    },
    {
     "name": "stdout",
     "output_type": "stream",
     "text": [
      "20\n"
     ]
    },
    {
     "name": "stdout",
     "output_type": "stream",
     "text": [
      "40\n"
     ]
    },
    {
     "name": "stdout",
     "output_type": "stream",
     "text": [
      "60\n"
     ]
    },
    {
     "name": "stdout",
     "output_type": "stream",
     "text": [
      "80\n"
     ]
    }
   ],
   "source": [
    "lucene_file = r'..\\lucene_q3_results_ids.txt'\n",
    "\n",
    "query_file = r'..\\etalons_3.txt'\n",
    "\n",
    "# Read review ids returned by lucene\n",
    "with open(lucene_file, 'r') as f:\n",
    "    ids = f.readlines()\n",
    "ids = [id[:-1] for id in ids]\n",
    "\n",
    "# Read ids of files chosen as etalons\n",
    "with open(query_file, 'r') as f:\n",
    "    benchmarks = f.readlines()\n",
    "benchmarks = benchmarks[1:]\n",
    "benchmarks = [e[:-1] for e in benchmarks]\n",
    "\n",
    "ids = [id for id in ids if id not in benchmarks]\n",
    "\n",
    "# reviews = df[df['review_id'].isin(ids)]\n",
    "reviews = [df[df['review_id'] == i] for i in ids]\n",
    "reviews = [r['text'].iloc[0] for r in reviews]\n",
    "\n",
    "gain_1 = score('rouge-1', benchmarks, reviews)\n",
    "gain_L = score('rouge-l', benchmarks, reviews)\n",
    "\n",
    "print(gain_1, gain_L)\n"
   ]
  },
  {
   "cell_type": "code",
   "execution_count": null,
   "metadata": {},
   "outputs": [],
   "source": []
  }
 ],
 "metadata": {
  "kernelspec": {
   "display_name": "Python 2",
   "language": "python",
   "name": "python2"
  },
  "language_info": {
   "codemirror_mode": {
    "name": "ipython",
    "version": 2
   },
   "file_extension": ".py",
   "mimetype": "text/x-python",
   "name": "python",
   "nbconvert_exporter": "python",
   "pygments_lexer": "ipython2",
   "version": "2.7.6"
  }
 },
 "nbformat": 4,
 "nbformat_minor": 0
}
